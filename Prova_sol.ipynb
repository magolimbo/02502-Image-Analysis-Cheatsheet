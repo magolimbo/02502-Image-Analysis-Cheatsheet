{
 "cells": [
  {
   "cell_type": "code",
   "execution_count": 13,
   "metadata": {},
   "outputs": [],
   "source": [
    "import matplotlib.pyplot as plt\n",
    "import numpy as np\n",
    "import pydicom as dicom\n",
    "from skimage.morphology import erosion\n",
    "from skimage.morphology import disk\n",
    "from skimage.filters import prewitt\n",
    "import math\n",
    "from scipy.stats import norm\n",
    "import pandas as pd\n",
    "import seaborn as sns\n",
    "from skimage import color, io, measure, segmentation, img_as_ubyte\n",
    "from skimage.filters import threshold_otsu\n",
    "from skimage.filters import gaussian\n",
    "from skimage.color import label2rgb\n",
    "from scipy.spatial import distance\n",
    "from skimage.transform import rotate\n",
    "from skimage.transform import EuclideanTransform\n",
    "from skimage.transform import warp\n",
    "from skimage.transform import matrix_transform\n",
    "from exam_functions import *"
   ]
  },
  {
   "cell_type": "markdown",
   "metadata": {},
   "source": [
    "# DEC 2022\n"
   ]
  },
  {
   "cell_type": "markdown",
   "metadata": {},
   "source": [
    "## 1\n"
   ]
  },
  {
   "cell_type": "markdown",
   "metadata": {},
   "source": [
    "1. Reads the DICOM image\n",
    "2. Uses the annotated regions to extract pixel values in the liver, kidney and aorta\n",
    "   regions\n",
    "3. Determines two threshold using minimum distance classification. Threshold\n",
    "   number (t1) separates the liver and the kidney. The second threshold (t2)\n",
    "   separates the kidney and the aorta.\n",
    "4. Segments the DICOM image by setting all pixel that have a value >t1 and <t2 to\n",
    "   foreground and the rest to background.\n",
    "5. Computes the DICE score between the resulting segmented image and the\n",
    "   KidneyROI.png image.\n"
   ]
  },
  {
   "cell_type": "code",
   "execution_count": 3,
   "metadata": {},
   "outputs": [],
   "source": [
    "in_dir = \"Exams/dec2022/data/dicom/\"\n",
    "im_name = \"1-162.dcm\"\n",
    "ct = dicom.read_file(in_dir + im_name)\n",
    "img = ct.pixel_array"
   ]
  },
  {
   "cell_type": "code",
   "execution_count": 4,
   "metadata": {},
   "outputs": [],
   "source": [
    "liver_roi = io.imread(in_dir + \"LiverROI.png\")\n",
    "liver_mask = liver_roi > 0\n",
    "liver_values = img[liver_mask]\n",
    "kidney_roi = io.imread(in_dir + \"KidneyROI.png\")\n",
    "kidney_mask = kidney_roi > 0\n",
    "kidney_values = img[kidney_mask]\n",
    "aorta_roi = io.imread(in_dir + \"AortaROI.png\")\n",
    "aorta_mask = aorta_roi > 0\n",
    "aorta_values = img[aorta_mask]\n",
    "# print(f\"liver: {liver_values}\\nkidney: {kidney_values}\\naorta: {aorta_values}\")"
   ]
  },
  {
   "cell_type": "code",
   "execution_count": 5,
   "metadata": {},
   "outputs": [
    {
     "name": "stdout",
     "output_type": "stream",
     "text": [
      "135.53619417264818 196.7035801627044\n"
     ]
    }
   ],
   "source": [
    "mu_liver = np.mean(liver_values)\n",
    "mu_kidney = np.mean(kidney_values)\n",
    "mu_aorta = np.mean(aorta_values)\n",
    "\n",
    "t_liver_kidney = (mu_liver + mu_kidney) / 2\n",
    "t_kidney_aorta = (mu_kidney + mu_aorta) / 2\n",
    "print(t_liver_kidney, t_kidney_aorta)"
   ]
  },
  {
   "cell_type": "code",
   "execution_count": 6,
   "metadata": {},
   "outputs": [
    {
     "data": {
      "image/png": "[encoded data removed]",
      "text/plain": [
       "<Figure size 640x480 with 1 Axes>"
      ]
     },
     "metadata": {},
     "output_type": "display_data"
    }
   ],
   "source": [
    "kidney_img = (img > t_liver_kidney) & (img < t_kidney_aorta)\n",
    "io.imshow(kidney_img)\n",
    "io.show()"
   ]
  },
  {
   "cell_type": "code",
   "execution_count": 9,
   "metadata": {},
   "outputs": [
    {
     "name": "stdout",
     "output_type": "stream",
     "text": [
      "DICE score 0.241\n"
     ]
    }
   ],
   "source": [
    "dice_score = 1 - distance.dice(kidney_img.ravel(), kidney_roi.ravel())\n",
    "print(f\"DICE score {dice_score:.3f}\")"
   ]
  },
  {
   "cell_type": "markdown",
   "metadata": {},
   "source": [
    "## 2\n"
   ]
  },
  {
   "cell_type": "markdown",
   "metadata": {},
   "source": [
    "The five data points (x, y):\n",
    "\n",
    "(7,13), (9,10), (6,10), (6,8), (3,6)\n",
    "\n",
    "result in the corresponding five Hough space sinograms (curves in Hough space) shown below.\n",
    "\n",
    "Two Hough space sinograms are crossing at (rho = 0.29, theta = 151 ).\n",
    "\n",
    "What are the corresponding data points for the two crossing curves in Hough space? (approximately)\n"
   ]
  },
  {
   "cell_type": "code",
   "execution_count": 10,
   "metadata": {},
   "outputs": [
    {
     "name": "stdout",
     "output_type": "stream",
     "text": [
      "Hough space parameters:\n",
      "Rho: 5.10\n",
      "Theta (degrees): 57.99\n",
      "Approximate data points in the xy-plane:\n",
      "(7, 13.23)\n",
      "(9, 16.83)\n",
      "(6, 11.42)\n",
      "(6, 11.42)\n",
      "(3, 6.01)\n"
     ]
    }
   ],
   "source": [
    "# Mapping\n",
    "# Given xy-coordinates\n",
    "x = 5\n",
    "y = 8\n",
    "\n",
    "# Convert x and y to Hough space parameters (rho and theta)\n",
    "rho = np.sqrt(x * 2 + y * 2)  # Calculate rho using the distance formula\n",
    "theta = np.arctan2(y, x)  # Calculate theta using the arctan2 function\n",
    "\n",
    "# Convert theta from radians to degrees for display (optional)\n",
    "theta_degrees = theta * (180 / np.pi)\n",
    "\n",
    "# Display the Hough space parameters\n",
    "print(\"Hough space parameters:\")\n",
    "print(f\"Rho: {rho:.2f}\")\n",
    "print(f\"Theta (degrees): {theta_degrees:.2f}\")\n",
    "\n",
    "\n",
    "# Mapping from Hough Space to Cartesian Space\n",
    "# Given Hough space parameters\n",
    "rho = 0.29\n",
    "theta_degrees = 151\n",
    "\n",
    "# Convert theta from degrees to radians\n",
    "theta_rad = theta_degrees * (np.pi / 180)\n",
    "\n",
    "\n",
    "# Function to calculate y for a given x\n",
    "def calculate_y(x):\n",
    "    return (rho - x * np.cos(theta_rad)) / np.sin(theta_rad)\n",
    "\n",
    "\n",
    "# Calculate y for a range of x values\n",
    "x_values = [7, 9, 6, 6, 3]  # Choose different x values\n",
    "corresponding_y_values = [calculate_y(x) for x in x_values]\n",
    "\n",
    "# Display the approximate data points\n",
    "print(\"Approximate data points in the xy-plane:\")\n",
    "for i, x in enumerate(x_values):\n",
    "    y = corresponding_y_values[i]\n",
    "    print(f\"({x}, {y:.2f})\")"
   ]
  },
  {
   "cell_type": "code",
   "execution_count": 14,
   "metadata": {},
   "outputs": [
    {
     "name": "stdout",
     "output_type": "stream",
     "text": [
      "Found pairs (x,y) = (7, 13)\n",
      "Found pairs (x,y) = (9, 17)\n",
      "Found pairs (x,y) = (6, 11)\n",
      "Found pairs (x,y) = (6, 11)\n",
      "Found pairs (x,y) = (3, 6)\n"
     ]
    }
   ],
   "source": [
    "xs = [7, 9, 6, 6, 3]\n",
    "ys = [13, 10, 10, 8, 6]\n",
    "\n",
    "theta = 151\n",
    "rho = 0.29\n",
    "\n",
    "for x in xs:\n",
    "    y = -x * (\n",
    "        math.cos(math.radians(theta)) / math.sin(math.radians(theta))\n",
    "    ) + rho * 1 / math.sin(math.radians(theta))\n",
    "    print(f\"Found pairs (x,y) = ({x}, {y:.0f})\")"
   ]
  }
 ],
 "metadata": {
  "kernelspec": {
   "display_name": "Python 3",
   "language": "python",
   "name": "python3"
  },
  "language_info": {
   "codemirror_mode": {
    "name": "ipython",
    "version": 3
   },
   "file_extension": ".py",
   "mimetype": "text/x-python",
   "name": "python",
   "nbconvert_exporter": "python",
   "pygments_lexer": "ipython3",
   "version": "3.11.6"
  }
 },
 "nbformat": 4,
 "nbformat_minor": 2
}

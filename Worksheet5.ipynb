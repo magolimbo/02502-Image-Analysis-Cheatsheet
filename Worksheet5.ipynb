{
 "cells": [
  {
   "cell_type": "code",
   "execution_count": null,
   "metadata": {},
   "outputs": [],
   "source": []
  },
  {
   "cell_type": "markdown",
   "metadata": {},
   "source": []
  },
  {
   "cell_type": "markdown",
   "metadata": {},
   "source": [
    "## Lego classification\n"
   ]
  },
  {
   "cell_type": "code",
   "execution_count": null,
   "metadata": {},
   "outputs": [],
   "source": [
    "# Binary image from original image\n",
    "\n",
    "in_dir = \"data/\"\n",
    "im_org = io.imread(f\"{in_dir}lego_4_small.png\")\n",
    "im_gray = color.rgb2gray(im_org)\n",
    "thres = threshold_otsu(im_gray)\n",
    "im_bin = im_gray < thres\n",
    "\n",
    "show_comparison(im_org, im_bin, \"Binary image\")"
   ]
  },
  {
   "cell_type": "code",
   "execution_count": null,
   "metadata": {},
   "outputs": [],
   "source": [
    "# Remove border BLOBs\n",
    "\n",
    "im_process = segmentation.clear_border(im_bin)"
   ]
  },
  {
   "cell_type": "code",
   "execution_count": null,
   "metadata": {},
   "outputs": [],
   "source": [
    "# Cleaning using morphological operations\n",
    "# In order to remove remove noise and close holes, you should do a morphological closing followed by a morphological opening\n",
    "# with a disk shaped structuring element with radius 5\n",
    "\n",
    "footprint = morphology.disk(5)\n",
    "im_process = morphology.binary_closing(im_process, footprint)\n",
    "im_open = morphology.binary_opening(im_process, footprint)"
   ]
  },
  {
   "cell_type": "code",
   "execution_count": null,
   "metadata": {},
   "outputs": [],
   "source": [
    "# Find labels\n",
    "# The actual connected component analysis / BLOB analysis is performed using measure.label\n",
    "\n",
    "label_img = measure.label(im_open)\n",
    "n_labels = label_img.max()\n",
    "print(f\"Number of labels: {n_labels}\")"
   ]
  },
  {
   "cell_type": "code",
   "execution_count": null,
   "metadata": {},
   "outputs": [],
   "source": [
    "# Visualize found labels\n",
    "# We can use the function label2rbg to create a visualization of the found BLOBS.\n",
    "\n",
    "im_blob = label2rgb(label_img)\n",
    "show_comparison(im_org, im_blob, \"BLOBS\")"
   ]
  },
  {
   "cell_type": "code",
   "execution_count": null,
   "metadata": {},
   "outputs": [],
   "source": [
    "# Compute BLOB features\n",
    "# It is possible to compute a wide variety of BLOB features using the measure.regionprops function\n",
    "\n",
    "region_props = measure.regionprops(label_img)\n",
    "areas = np.array([prop.area for prop in region_props])\n",
    "plt.hist(areas, bins=50)\n",
    "plt.show()"
   ]
  }
 ],
 "metadata": {
  "kernelspec": {
   "display_name": "Python 3",
   "language": "python",
   "name": "python3"
  },
  "language_info": {
   "name": "python",
   "version": "3.11.6"
  }
 },
 "nbformat": 4,
 "nbformat_minor": 2
}

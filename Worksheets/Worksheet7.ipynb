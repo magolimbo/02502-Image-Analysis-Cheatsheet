{
 "cells": [
  {
   "cell_type": "markdown",
   "metadata": {},
   "source": [
    "## Imports and data preparation\n"
   ]
  },
  {
   "cell_type": "code",
   "execution_count": 2,
   "metadata": {},
   "outputs": [],
   "source": [
    "import matplotlib.pyplot as plt\n",
    "import math\n",
    "import numpy as np\n",
    "import skimage.io as io\n",
    "from skimage.util import img_as_float, img_as_uint\n",
    "from skimage.transform import rotate\n",
    "from skimage.transform import EuclideanTransform\n",
    "from skimage.transform import SimilarityTransform\n",
    "from skimage.transform import warp\n",
    "from skimage.transform import swirl\n",
    "from skimage.transform import matrix_transform"
   ]
  },
  {
   "cell_type": "markdown",
   "metadata": {},
   "source": [
    "## Geometric transformations on images\n",
    "\n",
    "- Rotation with and without anchor point\n",
    "- Euclidean image transformation (Rotate and traslate)\n",
    "- Similarly image transformation (Rotate, traslate and scale)\n",
    "- Swirl image transformation (make a twist in the image)\n"
   ]
  },
  {
   "cell_type": "code",
   "execution_count": 1,
   "metadata": {},
   "outputs": [],
   "source": [
    "def show_comparison(original, transformed, transformed_name):\n",
    "    fig, (ax1, ax2) = plt.subplots(ncols=2, figsize=(8, 4), sharex=True, sharey=True)\n",
    "    ax1.imshow(original)\n",
    "    ax1.set_title(\"Original\")\n",
    "    ax1.axis(\"off\")\n",
    "    ax2.imshow(transformed)\n",
    "    ax2.set_title(transformed_name)\n",
    "    ax2.axis(\"off\")\n",
    "    io.show()"
   ]
  },
  {
   "cell_type": "markdown",
   "metadata": {},
   "source": [
    "### Image rotation\n"
   ]
  },
  {
   "cell_type": "code",
   "execution_count": null,
   "metadata": {},
   "outputs": [],
   "source": [
    "# Image rotation NO anchor point\n",
    "\n",
    "rotation_angle = 10\n",
    "rotated_img = rotate(im_org, rotation_angle)\n",
    "show_comparison(im_org, rotated_img, \"Rotated image\")"
   ]
  },
  {
   "cell_type": "code",
   "execution_count": null,
   "metadata": {},
   "outputs": [],
   "source": [
    "# Image rotation WITH anchor point\n",
    "\n",
    "rot_center = [0, 0]\n",
    "rotated_img = rotate(im_org, rotation_angle, center=rot_center)\n",
    "show_comparison(im_org, rotated_img, \"Rotated image\")"
   ]
  },
  {
   "cell_type": "code",
   "execution_count": null,
   "metadata": {},
   "outputs": [],
   "source": [
    "# Image rotation wiht mode\n",
    "# mode=\"reflect\" -> riflette la parte più vicina come sfondo\n",
    "# mode=\"constant\", cval=1  -> mette un colore a piacere (1=bianco)\n",
    "# mode=\"wrap\"  -> mette la parte opposta dell'immagine\n",
    "\n",
    "rotated_img = rotate(im_org, rotation_angle, mode=\"reflect\")\n",
    "show_comparison(im_org, rotated_img, \"Rotated image\")"
   ]
  },
  {
   "cell_type": "code",
   "execution_count": null,
   "metadata": {},
   "outputs": [],
   "source": [
    "# resize=\"True\" -> lascia invaraite le dimensioni della foto, quindi aumenta il quadrato che la circonda\n",
    "\n",
    "rotated_img = rotate(im_org, rotation_angle, resize=True)\n",
    "show_comparison(im_org, rotated_img, \"Rotated image\")"
   ]
  },
  {
   "cell_type": "markdown",
   "metadata": {},
   "source": [
    "### Euclidean image transformation\n"
   ]
  },
  {
   "cell_type": "code",
   "execution_count": null,
   "metadata": {},
   "outputs": [],
   "source": [
    "# angle in radians - counter clockwise\n",
    "rotation_angle = 10.0 * math.pi / 180.0\n",
    "trans = [10, 20]\n",
    "# EuclideanTransform returns a matrix with parameters for euclidean transformation. ROTATION AND TRASLATION\n",
    "tform = EuclideanTransform(rotation=rotation_angle, translation=trans)\n",
    "print(tform.params)\n",
    "\n",
    "# deformation of the image, warp applies the tform (linear in this case) to the image\n",
    "transformed_img = warp(im_org, tform)\n",
    "show_comparison(im_org, transformed_img, \"Rigid transformation image\")"
   ]
  },
  {
   "cell_type": "markdown",
   "metadata": {},
   "source": [
    "### Similarity transform of image\n"
   ]
  },
  {
   "cell_type": "code",
   "execution_count": null,
   "metadata": {},
   "outputs": [],
   "source": [
    "rotation_angle = 15.0 * math.pi / 180.0\n",
    "trans = [40, 30]\n",
    "scale = 0.6\n",
    "# Same as the Euclidean but with ROTATION, TRASLATION AND SCALE\n",
    "tform = SimilarityTransform(scale=scale, rotation=rotation_angle, translation=trans)\n",
    "\n",
    "recovered_img = warp(transformed_img, tform)\n",
    "show_comparison(im_org, recovered_img, \"Similarity transformation\")"
   ]
  },
  {
   "cell_type": "markdown",
   "metadata": {},
   "source": [
    "### The swirl image transformation\n"
   ]
  },
  {
   "cell_type": "code",
   "execution_count": null,
   "metadata": {},
   "outputs": [],
   "source": [
    "str = 10\n",
    "rad = 300\n",
    "c = [500, 400]\n",
    "# Swirl make a spiral in the immage with these parameters\n",
    "swirl_img = swirl(im_org, strength=str, radius=rad, center=c)\n",
    "show_comparison(im_org, swirl_img, \"Swirl transformation\")"
   ]
  },
  {
   "cell_type": "markdown",
   "metadata": {},
   "source": [
    "## Landmark based registration\n",
    "\n",
    "%matplotlib widget makes you visualize the plot with pixel values\n",
    "\n",
    "- Compare images one over the other\n",
    "- Create landmarks for images\n",
    "- Calculate errors between 2 images' landmarks\n",
    "- Estimate best matrix with **Least Squarred Error** method\n"
   ]
  },
  {
   "cell_type": "code",
   "execution_count": null,
   "metadata": {},
   "outputs": [],
   "source": [
    "# Visualize image sovrapposed\n",
    "blend = 0.5 * img_as_float(src_img) + 0.5 * img_as_float(dst_img)\n",
    "io.imshow(blend)\n",
    "io.show()"
   ]
  },
  {
   "cell_type": "code",
   "execution_count": null,
   "metadata": {},
   "outputs": [],
   "source": [
    "# Create a landmark array to visualize in the image\n",
    "# *********src  IS THE MOVING IMAGE, dst IS THE FIXED IMAGE***************\n",
    "src = np.array([[588, 274], [328, 179], [134, 398], [260, 525], [613, 448]])\n",
    "\n",
    "plt.imshow(src_img)\n",
    "plt.plot(src[:, 0], src[:, 1], \".r\", markersize=12)\n",
    "plt.show()"
   ]
  },
  {
   "cell_type": "code",
   "execution_count": null,
   "metadata": {},
   "outputs": [],
   "source": [
    "# Plot a line that connects all the landmarks for each image\n",
    "%matplotlib inline \n",
    "\n",
    "dst = np.array([[621, 293], [382, 166], [198, 266], [270, 440], [600, 450]])\n",
    "\n",
    "fig, ax = plt.subplots()\n",
    "io.imshow(blend)\n",
    "ax.plot(src[:, 0], src[:, 1], '-r', markersize=12, label=\"Source\")\n",
    "ax.plot(dst[:, 0], dst[:, 1], '-g', markersize=12, label=\"Destination\")\n",
    "ax.invert_yaxis()\n",
    "ax.legend()\n",
    "ax.set_title(\"Landmarks before alignment\")\n",
    "plt.show()"
   ]
  },
  {
   "cell_type": "code",
   "execution_count": null,
   "metadata": {},
   "outputs": [],
   "source": [
    "# Difference error between image's landmarks\n",
    "\n",
    "e_x = src[:, 0] - dst[:, 0]\n",
    "error_x = np.dot(e_x, e_x)\n",
    "e_y = src[:, 1] - dst[:, 1]\n",
    "error_y = np.dot(e_y, e_y)\n",
    "f = error_x + error_y\n",
    "print(f\"Landmark alignment error F (sum of squared differences): {f}\")"
   ]
  },
  {
   "cell_type": "code",
   "execution_count": null,
   "metadata": {},
   "outputs": [],
   "source": [
    "# Estimate uses the \"Total least squared error\" method to calculate the \"best\" matrix to use for the transformation\n",
    "\n",
    "tform = EuclideanTransform()\n",
    "tform.estimate(src, dst)\n",
    "src_transform = matrix_transform(src, tform.params)\n",
    "\n",
    "fig, ax = plt.subplots()\n",
    "io.imshow(dst_img)\n",
    "ax.plot(\n",
    "    src_transform[:, 0],\n",
    "    src_transform[:, 1],\n",
    "    \"-r\",\n",
    "    markersize=12,\n",
    "    label=\"Source transform\",\n",
    ")\n",
    "ax.plot(dst[:, 0], dst[:, 1], \"-g\", markersize=12, label=\"Destination\")\n",
    "ax.invert_yaxis()\n",
    "ax.legend()\n",
    "ax.set_title(\"Landmarks after alignment\")\n",
    "plt.show()\n\n",
    "warped = warp(src_img, tform.inverse)\n",
    "show_comparison(src_img, warped, 'Landmark based transformation')\n"
   ]
  }
 ],
 "metadata": {
  "kernelspec": {
   "display_name": "Python 3",
   "language": "python",
   "name": "python3"
  },
  "language_info": {
   "codemirror_mode": {
    "name": "ipython",
    "version": 3
   },
   "file_extension": ".py",
   "mimetype": "text/x-python",
   "name": "python",
   "nbconvert_exporter": "python",
   "pygments_lexer": "ipython3",
   "version": "3.11.6"
  }
 },
 "nbformat": 4,
 "nbformat_minor": 2
}

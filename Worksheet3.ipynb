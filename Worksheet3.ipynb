{
 "cells": [
  {
   "cell_type": "markdown",
   "metadata": {},
   "source": [
    "# EXERCISE 3\n"
   ]
  },
  {
   "cell_type": "markdown",
   "metadata": {},
   "source": [
    "## Imports and Images loading\n"
   ]
  },
  {
   "cell_type": "code",
   "execution_count": 1,
   "metadata": {},
   "outputs": [],
   "source": [
    "from skimage import io\n",
    "import matplotlib.pyplot as plt\n",
    "import numpy as np\n",
    "from skimage.util import img_as_float\n",
    "from skimage.util import img_as_ubyte\n",
    "from skimage.filters import threshold_otsu\n",
    "from skimage import color"
   ]
  },
  {
   "cell_type": "code",
   "execution_count": null,
   "metadata": {},
   "outputs": [],
   "source": [
    "# Directory containing data and images\n",
    "in_dir = \"data/\"\n",
    "im_name = \"vertebra.png\"\n",
    "im_org = io.imread(in_dir + im_name)"
   ]
  },
  {
   "cell_type": "markdown",
   "metadata": {},
   "source": [
    "## Conversions\n",
    "\n",
    "- Convert from unsigned byte to float images\n",
    "- Convert from float to unsigned byte images\n"
   ]
  },
  {
   "cell_type": "code",
   "execution_count": null,
   "metadata": {},
   "outputs": [],
   "source": [
    "# byte to float\n",
    "im_float = img_as_float(im_org)\n",
    "\n",
    "# float to unsigned byte\n",
    "im_ubyte = img_as_ubyte(im_float)"
   ]
  },
  {
   "cell_type": "markdown",
   "metadata": {},
   "source": [
    "## Histogram stretching\n",
    "\n",
    "- Linear histogram **stretching** of a grey level image.\n",
    "- Gamma mapping **stretching** of a grey level image.\n"
   ]
  },
  {
   "cell_type": "code",
   "execution_count": null,
   "metadata": {},
   "outputs": [],
   "source": [
    "def histogram_stretch(img_in):\n",
    "    \"\"\"\n",
    "    Stretches the histogram of an image\n",
    "    :param img_in: Input image\n",
    "    :return: Image, where the histogram is stretched so the min values is 0 and the maximum value 255\n",
    "    \"\"\"\n",
    "    # img_as_float will divide all pixel values with 255.0\n",
    "    img_float = img_as_float(img_in)\n",
    "    min_val = img_float.min()\n",
    "    max_val = img_float.max()\n",
    "    min_desired = 0.0\n",
    "    max_desired = 1.0\n",
    "\n",
    "    # ==============================================\n",
    "    # DO SOMETHING HERE\n",
    "    # ==============================================\n",
    "\n",
    "    img_out = (\n",
    "        (img_float - min_val) * (max_desired - min_desired) / (max_val - min_val)\n",
    "    ) + min_desired\n",
    "    # img_as_ubyte will multiply all pixel values with 255.0 before converting to unsigned byte\n",
    "    return img_as_ubyte(img_out)"
   ]
  },
  {
   "cell_type": "code",
   "execution_count": null,
   "metadata": {},
   "outputs": [],
   "source": [
    "def gamma_map(img_in, gamma):\n",
    "    \"\"\"\n",
    "    Stretches the histogram of an image\n",
    "    :param img_in: Input image\n",
    "    :param gamma: Exponent\n",
    "    :return: Gamma-mapped image\n",
    "    \"\"\"\n",
    "    img_float = img_as_float(img_in)\n",
    "    img_out = np.power(img_float, gamma)\n",
    "    return img_as_ubyte(img_out)"
   ]
  },
  {
   "cell_type": "markdown",
   "metadata": {},
   "source": [
    "## Image tresholding\n",
    "\n",
    "- Basic\n",
    "- Otsu tresholding\n"
   ]
  },
  {
   "cell_type": "code",
   "execution_count": null,
   "metadata": {},
   "outputs": [],
   "source": [
    "# Basic treshold\n",
    "def threshold_image(img_in, thres):\n",
    "    \"\"\"\n",
    "    Apply a threshold in an image and return the resulting image\n",
    "    :param img_in: Input image\n",
    "    :param thres: The treshold value in the range [0, 255]\n",
    "    :return: Resulting image (unsigned byte) where background is 0 and foreground is 255\n",
    "    \"\"\"\n",
    "    mask = img_in > thres\n",
    "    return img_as_ubyte(mask)"
   ]
  },
  {
   "cell_type": "code",
   "execution_count": null,
   "metadata": {},
   "outputs": [],
   "source": [
    "# Otsu treshold\n",
    "thres_new = threshold_otsu(im_org)\n",
    "im_thres = threshold_image(im_org, thres=thres_new)"
   ]
  },
  {
   "cell_type": "markdown",
   "metadata": {},
   "source": [
    "## Color thresholding in the RGB color space\n",
    "\n",
    "- Example function dtu sign\n"
   ]
  },
  {
   "cell_type": "code",
   "execution_count": null,
   "metadata": {},
   "outputs": [],
   "source": [
    "def detect_dtu_signs(img_in, sign):\n",
    "    \"\"\"\n",
    "    Detects signs of a specified color in the input image.\n",
    "\n",
    "    Parameters\n",
    "    ----------\n",
    "    img_in : ndarray\n",
    "        Input image as an ndarray.\n",
    "    sign : str\n",
    "        Color of the sign to detect. Possible values: 'red', 'blue'.\n",
    "\n",
    "    Returns\n",
    "    -------\n",
    "    ndarray\n",
    "        Binary mask of the detected sign in the input image.\n",
    "\n",
    "    Description\n",
    "    -----------\n",
    "    This function detects signs of a specified color ('red' or 'blue') in the input image.\n",
    "    For 'red' signs, it segments the image based on certain red color thresholds in the\n",
    "    red, green, and blue components. For 'blue' signs, it uses specific blue color\n",
    "    thresholds in the RGB components to create a binary mask representing the detected sign.\n",
    "    The output is a binary mask indicating the detected sign in the input image.\n",
    "    \"\"\"\n",
    "\n",
    "    # Extract individual color components\n",
    "    r_comp = img_in[:, :, 0]\n",
    "    g_comp = img_in[:, :, 1]\n",
    "    b_comp = img_in[:, :, 2]\n",
    "\n",
    "    # Detect 'red' signs based on specified thresholds\n",
    "    if sign == \"red\":\n",
    "        segm = (\n",
    "            (r_comp > 160)\n",
    "            & (r_comp < 180)\n",
    "            & (g_comp > 50)\n",
    "            & (g_comp < 80)\n",
    "            & (b_comp > 50)\n",
    "            & (b_comp < 80)\n",
    "        )\n",
    "\n",
    "    # Detect 'blue' signs based on specified thresholds\n",
    "    if sign == \"blue\":\n",
    "        segm = (\n",
    "            (r_comp < 10)\n",
    "            & (g_comp > 85)\n",
    "            & (g_comp < 105)\n",
    "            & (b_comp > 180)\n",
    "            & (b_comp < 200)\n",
    "        )\n",
    "\n",
    "    return img_as_ubyte(segm)"
   ]
  },
  {
   "cell_type": "markdown",
   "metadata": {},
   "source": [
    "## Color thresholding in the HSV color space\n",
    "\n",
    "- Separate and divide in the 2 HSV channel\n"
   ]
  },
  {
   "cell_type": "code",
   "execution_count": 3,
   "metadata": {},
   "outputs": [
    {
     "ename": "NameError",
     "evalue": "name 'color' is not defined",
     "output_type": "error",
     "traceback": [
      "\u001b[1;31m---------------------------------------------------------------------------\u001b[0m",
      "\u001b[1;31mNameError\u001b[0m                                 Traceback (most recent call last)",
      "\u001b[1;32mUntitled-1.ipynb Cell 16\u001b[0m line \u001b[0;36m1\n\u001b[1;32m----> <a href='vscode-notebook-cell:Untitled-1.ipynb?jupyter-notebook#X22sdW50aXRsZWQ%3D?line=0'>1</a>\u001b[0m hsv_img \u001b[39m=\u001b[39m color\u001b[39m.\u001b[39mrgb2hsv(im_org)\n\u001b[0;32m      <a href='vscode-notebook-cell:Untitled-1.ipynb?jupyter-notebook#X22sdW50aXRsZWQ%3D?line=1'>2</a>\u001b[0m hue_img \u001b[39m=\u001b[39m hsv_img[:, :, \u001b[39m0\u001b[39m]\n\u001b[0;32m      <a href='vscode-notebook-cell:Untitled-1.ipynb?jupyter-notebook#X22sdW50aXRsZWQ%3D?line=2'>3</a>\u001b[0m value_img \u001b[39m=\u001b[39m hsv_img[:, :, \u001b[39m2\u001b[39m]\n",
      "\u001b[1;31mNameError\u001b[0m: name 'color' is not defined"
     ]
    }
   ],
   "source": [
    "# Separate the different channel (HUE and VALUE channels)\n",
    "hsv_img = color.rgb2hsv(im_org)\n",
    "hue_img = hsv_img[:, :, 0]\n",
    "value_img = hsv_img[:, :, 2]\n",
    "\n",
    "# Actual segmentation\n",
    "segm_blue = (hue_img < 0.6) & (hue_img > 0.4) & (value_img < 0.77) & (value_img > 0.70)\n",
    "segm_red = (hue_img < 1.0) & (hue_img > 0.9)"
   ]
  },
  {
   "cell_type": "code",
   "execution_count": null,
   "metadata": {},
   "outputs": [],
   "source": []
  }
 ],
 "metadata": {
  "kernelspec": {
   "display_name": "Python 3",
   "language": "python",
   "name": "python3"
  },
  "language_info": {
   "codemirror_mode": {
    "name": "ipython",
    "version": 3
   },
   "file_extension": ".py",
   "mimetype": "text/x-python",
   "name": "python",
   "nbconvert_exporter": "python",
   "pygments_lexer": "ipython3",
   "version": "3.11.6"
  }
 },
 "nbformat": 4,
 "nbformat_minor": 2
}

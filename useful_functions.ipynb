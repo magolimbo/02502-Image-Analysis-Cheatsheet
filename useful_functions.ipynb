{
 "cells": [
  {
   "cell_type": "code",
   "execution_count": 1,
   "metadata": {},
   "outputs": [],
   "source": [
    "import matplotlib.pyplot as plt\n",
    "from skimage import io\n",
    "\n",
    "import numpy as np\n",
    "from skimage import img_as_ubyte\n"
   ]
  },
  {
   "cell_type": "code",
   "execution_count": 2,
   "metadata": {},
   "outputs": [],
   "source": [
    "#show two images side by side\n",
    "def show_comparison(original, transformed, transformed_name):\n",
    "    fig, (ax1, ax2) = plt.subplots(ncols=2, figsize=(8, 4), sharex=True,\n",
    "                                   sharey=True)\n",
    "    ax1.imshow(original)\n",
    "    ax1.set_title('Original')\n",
    "    ax1.axis('off')\n",
    "    ax2.imshow(transformed)\n",
    "    ax2.set_title(transformed_name)\n",
    "    ax2.axis('off')\n",
    "    io.show()\n",
    "\n"
   ]
  },
  {
   "cell_type": "code",
   "execution_count": 3,
   "metadata": {},
   "outputs": [],
   "source": [
    "def create_u_byte_image_from_vector(im_vec, height, width, channels):\n",
    "    min_val = im_vec.min()\n",
    "    max_val = im_vec.max()\n",
    "\n",
    "    # Transform to [0, 1]\n",
    "    im_vec = np.subtract(im_vec, min_val)\n",
    "    im_vec = np.divide(im_vec, max_val - min_val)\n",
    "    im_vec = im_vec.reshape(height, width, channels)\n",
    "    im_out = img_as_ubyte(im_vec)\n",
    "    return im_out"
   ]
  },
  {
   "cell_type": "code",
   "execution_count": 4,
   "metadata": {},
   "outputs": [],
   "source": [
    "def read_landmark_file(file_name):\n",
    "    f = open(file_name, 'r')\n",
    "    lm_s = f.readline().strip().split(' ')\n",
    "    n_lms = int(lm_s[0])\n",
    "    if n_lms < 3:\n",
    "        print(f\"Not enough landmarks found\")\n",
    "        return None\n",
    "\n",
    "    new_lms = 3\n",
    "    # 3 landmarks each with (x,y)\n",
    "    lm = np.zeros((new_lms, 2))\n",
    "    for i in range(new_lms):\n",
    "        lm[i, 0] = lm_s[1 + i * 2]\n",
    "        lm[i, 1] = lm_s[2 + i * 2]\n",
    "    return lm"
   ]
  }
 ],
 "metadata": {
  "kernelspec": {
   "display_name": "course02502",
   "language": "python",
   "name": "python3"
  },
  "language_info": {
   "codemirror_mode": {
    "name": "ipython",
    "version": 3
   },
   "file_extension": ".py",
   "mimetype": "text/x-python",
   "name": "python",
   "nbconvert_exporter": "python",
   "pygments_lexer": "ipython3",
   "version": "3.9.17"
  }
 },
 "nbformat": 4,
 "nbformat_minor": 2
}
